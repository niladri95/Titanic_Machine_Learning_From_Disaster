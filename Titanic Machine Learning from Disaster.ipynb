{
 "cells": [
  {
   "cell_type": "code",
   "execution_count": 1,
   "metadata": {},
   "outputs": [],
   "source": [
    "import numpy as np\n",
    "import pandas as pd\n",
    "import matplotlib.pyplot as plt\n",
    "import seaborn as sns\n",
    "import re\n",
    "import xgboost as xgb\n",
    "from sklearn.model_selection import cross_val_score,GridSearchCV\n",
    "from sklearn.ensemble import GradientBoostingClassifier,RandomForestClassifier\n",
    "from sklearn.tree import DecisionTreeClassifier\n",
    "from sklearn.metrics import roc_auc_score,roc_curve,confusion_matrix,average_precision_score,fbeta_score,roc_curve,auc,classification_report\n",
    "from sklearn.ensemble import VotingClassifier"
   ]
  },
  {
   "cell_type": "code",
   "execution_count": 2,
   "metadata": {},
   "outputs": [
    {
     "name": "stdout",
     "output_type": "stream",
     "text": [
      "Shape of Training Set:\n",
      " (891, 12)\n",
      "Shape of Test Set:\n",
      " (418, 11)\n"
     ]
    }
   ],
   "source": [
    "train=pd.read_csv('titanic_train.csv')\n",
    "test=pd.read_csv('titanic_test.csv')\n",
    "print('Shape of Training Set:\\n',train.shape)\n",
    "print('Shape of Test Set:\\n',test.shape)"
   ]
  },
  {
   "cell_type": "markdown",
   "metadata": {},
   "source": [
    "## EDA & FEATURE ENGINEERING"
   ]
  },
  {
   "cell_type": "code",
   "execution_count": 3,
   "metadata": {},
   "outputs": [
    {
     "data": {
      "text/html": [
       "<div>\n",
       "<style scoped>\n",
       "    .dataframe tbody tr th:only-of-type {\n",
       "        vertical-align: middle;\n",
       "    }\n",
       "\n",
       "    .dataframe tbody tr th {\n",
       "        vertical-align: top;\n",
       "    }\n",
       "\n",
       "    .dataframe thead th {\n",
       "        text-align: right;\n",
       "    }\n",
       "</style>\n",
       "<table border=\"1\" class=\"dataframe\">\n",
       "  <thead>\n",
       "    <tr style=\"text-align: right;\">\n",
       "      <th></th>\n",
       "      <th>PassengerId</th>\n",
       "      <th>Survived</th>\n",
       "      <th>Pclass</th>\n",
       "      <th>Name</th>\n",
       "      <th>Sex</th>\n",
       "      <th>Age</th>\n",
       "      <th>SibSp</th>\n",
       "      <th>Parch</th>\n",
       "      <th>Ticket</th>\n",
       "      <th>Fare</th>\n",
       "      <th>Cabin</th>\n",
       "      <th>Embarked</th>\n",
       "    </tr>\n",
       "  </thead>\n",
       "  <tbody>\n",
       "    <tr>\n",
       "      <th>0</th>\n",
       "      <td>1</td>\n",
       "      <td>0</td>\n",
       "      <td>3</td>\n",
       "      <td>Braund, Mr. Owen Harris</td>\n",
       "      <td>male</td>\n",
       "      <td>22.0</td>\n",
       "      <td>1</td>\n",
       "      <td>0</td>\n",
       "      <td>A/5 21171</td>\n",
       "      <td>7.2500</td>\n",
       "      <td>NaN</td>\n",
       "      <td>S</td>\n",
       "    </tr>\n",
       "    <tr>\n",
       "      <th>1</th>\n",
       "      <td>2</td>\n",
       "      <td>1</td>\n",
       "      <td>1</td>\n",
       "      <td>Cumings, Mrs. John Bradley (Florence Briggs Th...</td>\n",
       "      <td>female</td>\n",
       "      <td>38.0</td>\n",
       "      <td>1</td>\n",
       "      <td>0</td>\n",
       "      <td>PC 17599</td>\n",
       "      <td>71.2833</td>\n",
       "      <td>C85</td>\n",
       "      <td>C</td>\n",
       "    </tr>\n",
       "    <tr>\n",
       "      <th>2</th>\n",
       "      <td>3</td>\n",
       "      <td>1</td>\n",
       "      <td>3</td>\n",
       "      <td>Heikkinen, Miss. Laina</td>\n",
       "      <td>female</td>\n",
       "      <td>26.0</td>\n",
       "      <td>0</td>\n",
       "      <td>0</td>\n",
       "      <td>STON/O2. 3101282</td>\n",
       "      <td>7.9250</td>\n",
       "      <td>NaN</td>\n",
       "      <td>S</td>\n",
       "    </tr>\n",
       "    <tr>\n",
       "      <th>3</th>\n",
       "      <td>4</td>\n",
       "      <td>1</td>\n",
       "      <td>1</td>\n",
       "      <td>Futrelle, Mrs. Jacques Heath (Lily May Peel)</td>\n",
       "      <td>female</td>\n",
       "      <td>35.0</td>\n",
       "      <td>1</td>\n",
       "      <td>0</td>\n",
       "      <td>113803</td>\n",
       "      <td>53.1000</td>\n",
       "      <td>C123</td>\n",
       "      <td>S</td>\n",
       "    </tr>\n",
       "    <tr>\n",
       "      <th>4</th>\n",
       "      <td>5</td>\n",
       "      <td>0</td>\n",
       "      <td>3</td>\n",
       "      <td>Allen, Mr. William Henry</td>\n",
       "      <td>male</td>\n",
       "      <td>35.0</td>\n",
       "      <td>0</td>\n",
       "      <td>0</td>\n",
       "      <td>373450</td>\n",
       "      <td>8.0500</td>\n",
       "      <td>NaN</td>\n",
       "      <td>S</td>\n",
       "    </tr>\n",
       "  </tbody>\n",
       "</table>\n",
       "</div>"
      ],
      "text/plain": [
       "   PassengerId  Survived  Pclass  \\\n",
       "0            1         0       3   \n",
       "1            2         1       1   \n",
       "2            3         1       3   \n",
       "3            4         1       1   \n",
       "4            5         0       3   \n",
       "\n",
       "                                                Name     Sex   Age  SibSp  \\\n",
       "0                            Braund, Mr. Owen Harris    male  22.0      1   \n",
       "1  Cumings, Mrs. John Bradley (Florence Briggs Th...  female  38.0      1   \n",
       "2                             Heikkinen, Miss. Laina  female  26.0      0   \n",
       "3       Futrelle, Mrs. Jacques Heath (Lily May Peel)  female  35.0      1   \n",
       "4                           Allen, Mr. William Henry    male  35.0      0   \n",
       "\n",
       "   Parch            Ticket     Fare Cabin Embarked  \n",
       "0      0         A/5 21171   7.2500   NaN        S  \n",
       "1      0          PC 17599  71.2833   C85        C  \n",
       "2      0  STON/O2. 3101282   7.9250   NaN        S  \n",
       "3      0            113803  53.1000  C123        S  \n",
       "4      0            373450   8.0500   NaN        S  "
      ]
     },
     "execution_count": 3,
     "metadata": {},
     "output_type": "execute_result"
    }
   ],
   "source": [
    "train.head()"
   ]
  },
  {
   "cell_type": "code",
   "execution_count": 4,
   "metadata": {},
   "outputs": [
    {
     "data": {
      "text/plain": [
       "Index(['PassengerId', 'Survived', 'Pclass', 'Name', 'Sex', 'Age', 'SibSp',\n",
       "       'Parch', 'Ticket', 'Fare', 'Cabin', 'Embarked'],\n",
       "      dtype='object')"
      ]
     },
     "execution_count": 4,
     "metadata": {},
     "output_type": "execute_result"
    }
   ],
   "source": [
    "train.columns"
   ]
  },
  {
   "cell_type": "code",
   "execution_count": 5,
   "metadata": {},
   "outputs": [],
   "source": [
    "def missing_data(data):\n",
    "    total=data.isnull().count().sort_values(ascending=False)\n",
    "    percentage=(100*data.isnull().sum()/data.isnull().count())\n",
    "    ms=pd.DataFrame({'Total':data.isnull().sum(),'Percentage':percentage}).sort_values(by='Percentage',ascending=False)\n",
    "    ms=ms[ms['Percentage']>0]\n",
    "    ms['Percentage'].plot.bar().set_title('Percentage missing value')\n",
    "    return ms"
   ]
  },
  {
   "cell_type": "code",
   "execution_count": 6,
   "metadata": {},
   "outputs": [
    {
     "data": {
      "text/html": [
       "<div>\n",
       "<style scoped>\n",
       "    .dataframe tbody tr th:only-of-type {\n",
       "        vertical-align: middle;\n",
       "    }\n",
       "\n",
       "    .dataframe tbody tr th {\n",
       "        vertical-align: top;\n",
       "    }\n",
       "\n",
       "    .dataframe thead th {\n",
       "        text-align: right;\n",
       "    }\n",
       "</style>\n",
       "<table border=\"1\" class=\"dataframe\">\n",
       "  <thead>\n",
       "    <tr style=\"text-align: right;\">\n",
       "      <th></th>\n",
       "      <th>Total</th>\n",
       "      <th>Percentage</th>\n",
       "    </tr>\n",
       "  </thead>\n",
       "  <tbody>\n",
       "    <tr>\n",
       "      <th>Cabin</th>\n",
       "      <td>687</td>\n",
       "      <td>77.104377</td>\n",
       "    </tr>\n",
       "    <tr>\n",
       "      <th>Age</th>\n",
       "      <td>177</td>\n",
       "      <td>19.865320</td>\n",
       "    </tr>\n",
       "    <tr>\n",
       "      <th>Embarked</th>\n",
       "      <td>2</td>\n",
       "      <td>0.224467</td>\n",
       "    </tr>\n",
       "  </tbody>\n",
       "</table>\n",
       "</div>"
      ],
      "text/plain": [
       "          Total  Percentage\n",
       "Cabin       687   77.104377\n",
       "Age         177   19.865320\n",
       "Embarked      2    0.224467"
      ]
     },
     "execution_count": 6,
     "metadata": {},
     "output_type": "execute_result"
    },
    {
     "data": {
      "image/png": "[encoded data removed]",
      "text/plain": [
       "<Figure size 432x288 with 1 Axes>"
      ]
     },
     "metadata": {
      "needs_background": "light"
     },
     "output_type": "display_data"
    }
   ],
   "source": [
    "missing_data(train)#missing value for various feature in training set"
   ]
  },
  {
   "cell_type": "code",
   "execution_count": 7,
   "metadata": {},
   "outputs": [
    {
     "data": {
      "text/html": [
       "<div>\n",
       "<style scoped>\n",
       "    .dataframe tbody tr th:only-of-type {\n",
       "        vertical-align: middle;\n",
       "    }\n",
       "\n",
       "    .dataframe tbody tr th {\n",
       "        vertical-align: top;\n",
       "    }\n",
       "\n",
       "    .dataframe thead th {\n",
       "        text-align: right;\n",
       "    }\n",
       "</style>\n",
       "<table border=\"1\" class=\"dataframe\">\n",
       "  <thead>\n",
       "    <tr style=\"text-align: right;\">\n",
       "      <th></th>\n",
       "      <th>Total</th>\n",
       "      <th>Percentage</th>\n",
       "    </tr>\n",
       "  </thead>\n",
       "  <tbody>\n",
       "    <tr>\n",
       "      <th>Cabin</th>\n",
       "      <td>327</td>\n",
       "      <td>78.229665</td>\n",
       "    </tr>\n",
       "    <tr>\n",
       "      <th>Age</th>\n",
       "      <td>86</td>\n",
       "      <td>20.574163</td>\n",
       "    </tr>\n",
       "    <tr>\n",
       "      <th>Fare</th>\n",
       "      <td>1</td>\n",
       "      <td>0.239234</td>\n",
       "    </tr>\n",
       "  </tbody>\n",
       "</table>\n",
       "</div>"
      ],
      "text/plain": [
       "       Total  Percentage\n",
       "Cabin    327   78.229665\n",
       "Age       86   20.574163\n",
       "Fare       1    0.239234"
      ]
     },
     "execution_count": 7,
     "metadata": {},
     "output_type": "execute_result"
    },
    {
     "data": {
      "image/png": "[encoded data removed]",
      "text/plain": [
       "<Figure size 432x288 with 1 Axes>"
      ]
     },
     "metadata": {
      "needs_background": "light"
     },
     "output_type": "display_data"
    }
   ],
   "source": [
    "missing_data(test)#missing value for various feature in test set"
   ]
  },
  {
   "cell_type": "code",
   "execution_count": 8,
   "metadata": {},
   "outputs": [
    {
     "data": {
      "text/plain": [
       "<matplotlib.axes._subplots.AxesSubplot at 0x17971f6f0b8>"
      ]
     },
     "execution_count": 8,
     "metadata": {},
     "output_type": "execute_result"
    },
    {
     "data": {
      "image/png": "[encoded data removed]",
      "text/plain": [
       "<Figure size 432x288 with 1 Axes>"
      ]
     },
     "metadata": {
      "needs_background": "light"
     },
     "output_type": "display_data"
    }
   ],
   "source": [
    "sns.boxplot(x='Survived',y='Fare',data=train)#fare was higher for survived passenger"
   ]
  },
  {
   "cell_type": "code",
   "execution_count": 9,
   "metadata": {},
   "outputs": [
    {
     "data": {
      "text/plain": [
       "<matplotlib.axes._subplots.AxesSubplot at 0x1797209a9e8>"
      ]
     },
     "execution_count": 9,
     "metadata": {},
     "output_type": "execute_result"
    },
    {
     "data": {
      "image/png": "[encoded data removed]",
      "text/plain": [
       "<Figure size 432x288 with 1 Axes>"
      ]
     },
     "metadata": {
      "needs_background": "light"
     },
     "output_type": "display_data"
    }
   ],
   "source": [
    "sns.boxplot(x='Pclass',y='Fare',data=train)"
   ]
  },
  {
   "cell_type": "code",
   "execution_count": 10,
   "metadata": {},
   "outputs": [
    {
     "data": {
      "text/plain": [
       "<matplotlib.axes._subplots.AxesSubplot at 0x1797211a240>"
      ]
     },
     "execution_count": 10,
     "metadata": {},
     "output_type": "execute_result"
    },
    {
     "data": {
      "image/png": "[encoded data removed]",
      "text/plain": [
       "<Figure size 432x288 with 1 Axes>"
      ]
     },
     "metadata": {
      "needs_background": "light"
     },
     "output_type": "display_data"
    }
   ],
   "source": [
    "sns.boxplot(x='Pclass',y='Fare',data=test)#for both train and test set, fare is decreasing with Pclass so fare is ordinal variable"
   ]
  },
  {
   "cell_type": "code",
   "execution_count": 11,
   "metadata": {},
   "outputs": [],
   "source": [
    "avg_fare=test.groupby(by='Pclass').mean()['Fare']\n",
    "def fill_fare(pclass,fare):\n",
    "    if np.isnan(fare):\n",
    "        return avg_fare[pclass]\n",
    "    else:\n",
    "        return fare\n",
    "test['Fare']=test.apply(lambda x:fill_fare(x['Pclass'],x['Fare']),axis=1 )#filling missing value of test set for feature FARE"
   ]
  },
  {
   "cell_type": "code",
   "execution_count": 12,
   "metadata": {},
   "outputs": [
    {
     "data": {
      "text/plain": [
       "<matplotlib.axes._subplots.AxesSubplot at 0x179721b7c50>"
      ]
     },
     "execution_count": 12,
     "metadata": {},
     "output_type": "execute_result"
    },
    {
     "data": {
      "image/png": "[encoded data removed]",
      "text/plain": [
       "<Figure size 432x288 with 1 Axes>"
      ]
     },
     "metadata": {
      "needs_background": "light"
     },
     "output_type": "display_data"
    }
   ],
   "source": [
    "sns.boxplot(x='Pclass',y='Age',data=train)"
   ]
  },
  {
   "cell_type": "code",
   "execution_count": 13,
   "metadata": {},
   "outputs": [
    {
     "data": {
      "text/plain": [
       "<matplotlib.axes._subplots.AxesSubplot at 0x17972130c50>"
      ]
     },
     "execution_count": 13,
     "metadata": {},
     "output_type": "execute_result"
    },
    {
     "data": {
      "image/png": "[encoded data removed]",
      "text/plain": [
       "<Figure size 432x288 with 1 Axes>"
      ]
     },
     "metadata": {
      "needs_background": "light"
     },
     "output_type": "display_data"
    }
   ],
   "source": [
    "sns.boxplot(x='Pclass',y='Age',data=test)#for both train and test set Age is decreasing with Pclass, so we will fill missing \n",
    "#value for age with median value of corresponding Pclass"
   ]
  },
  {
   "cell_type": "code",
   "execution_count": 14,
   "metadata": {},
   "outputs": [],
   "source": [
    "median_age=train.groupby('Pclass').median()['Age']\n",
    "def fill_age(pclass,age):\n",
    "    if np.isnan(age):\n",
    "        return median_age[pclass]\n",
    "    else:\n",
    "        return age\n",
    "train['Age']=train.apply(lambda x:fill_age(x['Pclass'],x['Age']),axis=1 )\n",
    "test['Age']=test.apply(lambda x:fill_age(x['Pclass'],x['Age']),axis=1 )"
   ]
  },
  {
   "cell_type": "code",
   "execution_count": 15,
   "metadata": {},
   "outputs": [
    {
     "data": {
      "text/plain": [
       "PassengerId      0\n",
       "Survived         0\n",
       "Pclass           0\n",
       "Name             0\n",
       "Sex              0\n",
       "Age              0\n",
       "SibSp            0\n",
       "Parch            0\n",
       "Ticket           0\n",
       "Fare             0\n",
       "Cabin          687\n",
       "Embarked         2\n",
       "dtype: int64"
      ]
     },
     "execution_count": 15,
     "metadata": {},
     "output_type": "execute_result"
    }
   ],
   "source": [
    "train.isnull().sum()"
   ]
  },
  {
   "cell_type": "code",
   "execution_count": 16,
   "metadata": {},
   "outputs": [],
   "source": [
    "#combining Parch and SibSp into single feature\n",
    "train['family_size']=train['Parch']+train['SibSp']+1\n",
    "test['family_size']=test['Parch']+test['SibSp']+1"
   ]
  },
  {
   "cell_type": "code",
   "execution_count": 17,
   "metadata": {},
   "outputs": [],
   "source": [
    "data=[train,test]\n",
    "def get_title(name):\n",
    "    title_search = re.search(' ([A-Za-z]+)\\.', name)\n",
    "    if title_search:\n",
    "        return title_search.group(1)\n",
    "    return \"\"\n",
    "for dataset in data:\n",
    "    dataset['Title'] = dataset['Name'].apply(get_title)\n",
    "for dataset in data:\n",
    "    dataset['Title'] = dataset['Title'].replace(['Lady', 'Countess','Capt', 'Col','Don', \n",
    "                                                 'Dr', 'Major', 'Rev', 'Sir', 'Jonkheer', 'Dona'], 'Rare')\n",
    "\n",
    "    dataset['Title'] = dataset['Title'].replace('Mlle', 'Miss')\n",
    "    dataset['Title'] = dataset['Title'].replace('Ms', 'Miss')\n",
    "    dataset['Title'] = dataset['Title'].replace('Mme', 'Mrs')"
   ]
  },
  {
   "cell_type": "code",
   "execution_count": 18,
   "metadata": {},
   "outputs": [
    {
     "name": "stdout",
     "output_type": "stream",
     "text": [
      "      Pclass\n",
      "1  62.962963\n",
      "2  47.282609\n",
      "3  24.236253\n"
     ]
    },
    {
     "data": {
      "text/plain": [
       "Text(0.5, 1.0, 'Percentage Survived in various Passenger Class')"
      ]
     },
     "execution_count": 18,
     "metadata": {},
     "output_type": "execute_result"
    },
    {
     "data": {
      "image/png": "[encoded data removed]",
      "text/plain": [
       "<Figure size 432x288 with 1 Axes>"
      ]
     },
     "metadata": {
      "needs_background": "light"
     },
     "output_type": "display_data"
    }
   ],
   "source": [
    "train_survived=train[train['Survived']==1]\n",
    "df=pd.DataFrame(100*train_survived['Pclass'].value_counts()/train['Pclass'].value_counts())\n",
    "print(df)\n",
    "df.plot.bar().set_title('Percentage Survived in various Passenger Class')#from the below bar plot clearly Pclass has significant effect on Survived feature"
   ]
  },
  {
   "cell_type": "code",
   "execution_count": 19,
   "metadata": {},
   "outputs": [
    {
     "name": "stdout",
     "output_type": "stream",
     "text": [
      "              Sex\n",
      "female  74.203822\n",
      "male    18.890815\n"
     ]
    },
    {
     "data": {
      "text/plain": [
       "Text(0.5, 1.0, 'Percentage Survived for Male/Female')"
      ]
     },
     "execution_count": 19,
     "metadata": {},
     "output_type": "execute_result"
    },
    {
     "data": {
      "image/png": "[encoded data removed]",
      "text/plain": [
       "<Figure size 432x288 with 1 Axes>"
      ]
     },
     "metadata": {
      "needs_background": "light"
     },
     "output_type": "display_data"
    }
   ],
   "source": [
    "train_survived=train[train['Survived']==1]\n",
    "df=pd.DataFrame(100*train_survived['Sex'].value_counts()/train['Sex'].value_counts())\n",
    "print(df)\n",
    "df.plot.bar().set_title('Percentage Survived for Male/Female')#from the below bar plot clearly Sex Feature has significant effect on Survived feature"
   ]
  },
  {
   "cell_type": "code",
   "execution_count": 20,
   "metadata": {},
   "outputs": [
    {
     "name": "stdout",
     "output_type": "stream",
     "text": [
      "    Embarked\n",
      "S  33.695652\n",
      "C  55.357143\n",
      "Q  38.961039\n"
     ]
    },
    {
     "data": {
      "text/plain": [
       "Text(0.5, 1.0, 'Percentage Survived for various Embarked category')"
      ]
     },
     "execution_count": 20,
     "metadata": {},
     "output_type": "execute_result"
    },
    {
     "data": {
      "image/png": "[encoded data removed]",
      "text/plain": [
       "<Figure size 432x288 with 1 Axes>"
      ]
     },
     "metadata": {
      "needs_background": "light"
     },
     "output_type": "display_data"
    }
   ],
   "source": [
    "train_survived=train[train['Survived']==1]\n",
    "df=pd.DataFrame(100*train_survived['Embarked'].value_counts()/train['Embarked'].value_counts())\n",
    "print(df)\n",
    "df.plot.bar().set_title('Percentage Survived for various Embarked category')#from the below bar plot clearly Embarked has significant effect on Survived feature"
   ]
  },
  {
   "cell_type": "code",
   "execution_count": 21,
   "metadata": {},
   "outputs": [],
   "source": [
    "#converting continious age and fare to categorical variable\n",
    "train['Fare_bin'] = pd.cut(train['Fare'],bins=[-1,7.91,14.45,31,514],labels=['Low_fare','median_fare','Average_fare','high_fare'])\n",
    "train['Age_bin'] = pd.cut(train['Age'], bins=[0,12,20,40,120],labels=['Children','Teenage','Adult','Elder'])\n",
    "test['Fare_bin'] = pd.cut(test['Fare'],bins=[-1,7.91,14.45,31,514],labels=['Low_fare','median_fare','Average_fare','high_fare'])\n",
    "test['Age_bin'] = pd.cut(test['Age'], bins=[0,12,20,40,120],labels=['Children','Teenage','Adult','Elder'])"
   ]
  },
  {
   "cell_type": "code",
   "execution_count": 22,
   "metadata": {},
   "outputs": [],
   "source": [
    "#passengerID has no significamt impact on survival analysis so we can drop them\n",
    "# Cabin has both more than 75 percent missing value in both training and testing set so filling missing value is not so logical,\n",
    "#we should drop Cabin feature\n",
    "#Title feature has been extracted from name feature , so we can drop Name feature\n",
    "# family_size feature  has been created using SibSp(Sibling/Spouse) and Parch(Parents/Child ) feature , so we can drop Parch \n",
    "#and SibSp feature\n",
    "#Pclass is a ordinal variable so no need to convert it to a categorical feature , we will keep it as a numerical feature\n",
    "# at this time point,Didn't get any useful information from ticket feature so I will drop ticket feature."
   ]
  },
  {
   "cell_type": "code",
   "execution_count": 23,
   "metadata": {},
   "outputs": [],
   "source": [
    "passenger_id=test['PassengerId']\n",
    "drop_columns=['PassengerId','Name','SibSp','Parch','Ticket','Cabin']\n",
    "for i in data:\n",
    "    i.drop(drop_columns,axis=1,inplace=True)"
   ]
  },
  {
   "cell_type": "code",
   "execution_count": 24,
   "metadata": {},
   "outputs": [
    {
     "data": {
      "text/plain": [
       "Index(['Survived', 'Pclass', 'Sex', 'Age', 'Fare', 'Embarked', 'family_size',\n",
       "       'Title', 'Fare_bin', 'Age_bin', 'Sex_male', 'Embarked_Q', 'Embarked_S',\n",
       "       'Title_Miss', 'Title_Mr', 'Title_Mrs', 'Title_Rare',\n",
       "       'Fare_bin_median_fare', 'Fare_bin_Average_fare', 'Fare_bin_high_fare',\n",
       "       'Age_bin_Teenage', 'Age_bin_Adult', 'Age_bin_Elder'],\n",
       "      dtype='object')"
      ]
     },
     "execution_count": 24,
     "metadata": {},
     "output_type": "execute_result"
    }
   ],
   "source": [
    "get_dummies=pd.get_dummies(train[['Sex','Embarked','Title','Fare_bin','Age_bin']],drop_first=True)\n",
    "train=pd.concat([train,get_dummies],axis=1)\n",
    "train.columns"
   ]
  },
  {
   "cell_type": "code",
   "execution_count": 25,
   "metadata": {},
   "outputs": [],
   "source": [
    "drop_columns=['Sex','Embarked','Title','Fare_bin','Age_bin']\n",
    "train.drop(drop_columns,axis=1,inplace=True)"
   ]
  },
  {
   "cell_type": "code",
   "execution_count": 26,
   "metadata": {},
   "outputs": [
    {
     "data": {
      "text/plain": [
       "Index(['Pclass', 'Sex', 'Age', 'Fare', 'Embarked', 'family_size', 'Title',\n",
       "       'Fare_bin', 'Age_bin', 'Sex_male', 'Embarked_Q', 'Embarked_S',\n",
       "       'Title_Miss', 'Title_Mr', 'Title_Mrs', 'Title_Rare',\n",
       "       'Fare_bin_median_fare', 'Fare_bin_Average_fare', 'Fare_bin_high_fare',\n",
       "       'Age_bin_Teenage', 'Age_bin_Adult', 'Age_bin_Elder'],\n",
       "      dtype='object')"
      ]
     },
     "execution_count": 26,
     "metadata": {},
     "output_type": "execute_result"
    }
   ],
   "source": [
    "get_dummies=pd.get_dummies(test[['Sex','Embarked','Title','Fare_bin','Age_bin']],drop_first=True)\n",
    "test=pd.concat([test,get_dummies],axis=1)\n",
    "test.columns"
   ]
  },
  {
   "cell_type": "code",
   "execution_count": 27,
   "metadata": {},
   "outputs": [],
   "source": [
    "drop_columns=['Sex','Embarked','Title','Fare_bin','Age_bin']\n",
    "test.drop(drop_columns,axis=1,inplace=True)"
   ]
  },
  {
   "cell_type": "code",
   "execution_count": 28,
   "metadata": {},
   "outputs": [],
   "source": [
    "x_train=train.drop('Survived',axis=1)\n",
    "y_train=train['Survived']"
   ]
  },
  {
   "cell_type": "markdown",
   "metadata": {},
   "source": [
    "## Decision Tree, Random Forest and XGB Classifier with Grid Search "
   ]
  },
  {
   "cell_type": "code",
   "execution_count": 29,
   "metadata": {},
   "outputs": [
    {
     "data": {
      "text/plain": [
       "{'max_depth': 5, 'max_features': None, 'min_samples_split': 20}"
      ]
     },
     "execution_count": 29,
     "metadata": {},
     "output_type": "execute_result"
    }
   ],
   "source": [
    "#Initialize the classifier\n",
    "clf = DecisionTreeClassifier(random_state=42)\n",
    "\n",
    "#parameters for tuning\n",
    "parameters = {\n",
    "              'max_features': [None, 'sqrt', 'log2'],\n",
    "              'max_depth':[5,8,15,None],\n",
    "              'min_samples_split':[5,10,20],\n",
    "              }\n",
    "# grid search using roc_auc score\n",
    "gs1=GridSearchCV(clf,param_grid=parameters,cv=5,scoring=\"roc_auc\")\n",
    "grid_fit=gs1.fit(x_train,y_train)\n",
    "\n",
    "# obtain the estimator\n",
    "best_clf = grid_fit.best_estimator_\n",
    "\n",
    "# find the best parameter\n",
    "gs1.best_params_"
   ]
  },
  {
   "cell_type": "code",
   "execution_count": 30,
   "metadata": {},
   "outputs": [
    {
     "name": "stdout",
     "output_type": "stream",
     "text": [
      "Unoptimized model\n",
      "------\n",
      "AUPRC on train data: 0.9726\n",
      "AUROC on train data: 0.9806\n",
      "F-score on train data: 0.9660\n",
      "\n",
      "Optimized Model\n",
      "------\n",
      "Final AUPRC on the train data: 0.7110\n",
      "Final AUROC the train data: 0.8280\n",
      "Final F-score on the train data: 0.7705\n",
      "[[487  62]\n",
      " [ 79 263]]\n",
      "Area Under ROC Curve for train data:  0.906922740975085\n"
     ]
    },
    {
     "data": {
      "image/png": "[encoded data removed]",
      "text/plain": [
       "<Figure size 432x288 with 1 Axes>"
      ]
     },
     "metadata": {
      "needs_background": "light"
     },
     "output_type": "display_data"
    }
   ],
   "source": [
    "#fitting the classifier with best parameters obtained\n",
    "r1=DecisionTreeClassifier(max_depth=5, max_features=None, min_samples_split=20,random_state=42).fit(x_train,y_train)\n",
    "\n",
    "#predictions using the unoptimized model and optimized model\n",
    "predictions = (clf.fit(x_train, y_train)).predict(x_train)\n",
    "best_predictions = best_clf.predict(x_train)\n",
    "\n",
    "# score before optimization \n",
    "print (\"Unoptimized model\\n------\")\n",
    "print (\"AUPRC on train data: {:.4f}\".format(average_precision_score(y_train, predictions)))\n",
    "print (\"AUROC on train data: {:.4f}\".format(roc_auc_score(y_train, predictions)))\n",
    "print (\"F-score on train data: {:.4f}\".format(fbeta_score(y_train, predictions, beta = 5)))\n",
    "\n",
    "#score after optimization\n",
    "print (\"\\nOptimized Model\\n------\")\n",
    "print (\"Final AUPRC on the train data: {:.4f}\".format(average_precision_score(y_train, best_predictions)))\n",
    "print (\"Final AUROC the train data: {:.4f}\".format(roc_auc_score(y_train, best_predictions)))\n",
    "print (\"Final F-score on the train data: {:.4f}\".format(fbeta_score(y_train, best_predictions, beta = 5)))\n",
    "print(confusion_matrix(y_train,best_predictions))\n",
    "\n",
    "probas_ = best_clf.predict_proba(x_train)\n",
    "fpr, tpr, thresholds = roc_curve(y_train, probas_[:, 1])\n",
    "area = auc(fpr, tpr)\n",
    "print(\"Area Under ROC Curve for train data: \",area)\n",
    "#plot roc curve\n",
    "plt.plot(fpr, tpr, label='ROC curve for Optimized Model')\n",
    "plt.xlabel('FPR')\n",
    "plt.ylabel('TPR')\n",
    "plt.ylim([0.0, 1.05])\n",
    "plt.xlim([0.0, 1.0])\n",
    "plt.legend(loc=\"lower left\")\n",
    "plt.show()"
   ]
  },
  {
   "cell_type": "code",
   "execution_count": 31,
   "metadata": {},
   "outputs": [
    {
     "data": {
      "text/plain": [
       "{'max_depth': 8, 'max_features': 0.75, 'n_estimators': 100}"
      ]
     },
     "execution_count": 31,
     "metadata": {},
     "output_type": "execute_result"
    }
   ],
   "source": [
    "#Initialize the classifier\n",
    "clf = RandomForestClassifier(random_state=42)\n",
    "\n",
    "# parameters to tune\n",
    "\n",
    "parameters = {\n",
    "              'max_features': [0.5,0.75],\n",
    "              'max_depth':[8,12,15],\n",
    "              \"n_estimators\":[100,200,300,400]\n",
    "              }\n",
    "\n",
    "# grid search using roc_auc score\n",
    "gs2 = GridSearchCV(clf, parameters, scoring=\"roc_auc\")\n",
    "\n",
    "# find the best parameter\n",
    "grid_fit = gs2.fit(x_train, y_train)\n",
    "\n",
    "# obtain the estimator\n",
    "best_clf = grid_fit.best_estimator_\n",
    "\n",
    "# find the best parameter\n",
    "gs2.best_params_"
   ]
  },
  {
   "cell_type": "code",
   "execution_count": 32,
   "metadata": {},
   "outputs": [
    {
     "name": "stdout",
     "output_type": "stream",
     "text": [
      "Unoptimized model\n",
      "------\n",
      "AUPRC on train data: 0.9694\n",
      "AUROC on train data: 0.9823\n",
      "F-score on train data: 0.9741\n",
      "\n",
      "Optimized Model\n",
      "------\n",
      "Final AUPRC on the train data: 0.8603\n",
      "Final AUROC the train data: 0.9105\n",
      "Final F-score on the train data: 0.8569\n",
      "[[531  18]\n",
      " [ 50 292]]\n",
      "Area Under ROC Curve for train data:  0.9784270177568999\n"
     ]
    },
    {
     "data": {
      "image/png": "[encoded data removed]",
      "text/plain": [
       "<Figure size 432x288 with 1 Axes>"
      ]
     },
     "metadata": {
      "needs_background": "light"
     },
     "output_type": "display_data"
    }
   ],
   "source": [
    "#fitting the classifier with best parameters obtained\n",
    "r2=RandomForestClassifier(max_depth=8, max_features=.75, n_estimators=100,random_state=42).fit(x_train,y_train)\n",
    "\n",
    "#predictions using the unoptimized model and optimized model\n",
    "predictions = (clf.fit(x_train, y_train)).predict(x_train)\n",
    "best_predictions = best_clf.predict(x_train)\n",
    "# score before optimization \n",
    "print (\"Unoptimized model\\n------\")\n",
    "print (\"AUPRC on train data: {:.4f}\".format(average_precision_score(y_train, predictions)))\n",
    "print (\"AUROC on train data: {:.4f}\".format(roc_auc_score(y_train, predictions)))\n",
    "print (\"F-score on train data: {:.4f}\".format(fbeta_score(y_train, predictions, beta = 5)))\n",
    "\n",
    "#score after optimization\n",
    "print (\"\\nOptimized Model\\n------\")\n",
    "print (\"Final AUPRC on the train data: {:.4f}\".format(average_precision_score(y_train, best_predictions)))\n",
    "print (\"Final AUROC the train data: {:.4f}\".format(roc_auc_score(y_train, best_predictions)))\n",
    "print (\"Final F-score on the train data: {:.4f}\".format(fbeta_score(y_train, best_predictions, beta = 5)))\n",
    "print(confusion_matrix(y_train,best_predictions))\n",
    "\n",
    "probas_ = best_clf.predict_proba(x_train)\n",
    "fpr, tpr, thresholds = roc_curve(y_train, probas_[:, 1])\n",
    "area = auc(fpr, tpr)\n",
    "print(\"Area Under ROC Curve for train data: \",area)\n",
    "#plot roc curve\n",
    "plt.plot(fpr, tpr, label='ROC curve for Optimized Model')\n",
    "plt.xlabel('FPR')\n",
    "plt.ylabel('TPR')\n",
    "plt.ylim([0.0, 1.05])\n",
    "plt.xlim([0.0, 1.0])\n",
    "plt.legend(loc=\"lower left\")\n",
    "plt.show()\n"
   ]
  },
  {
   "cell_type": "code",
   "execution_count": 33,
   "metadata": {},
   "outputs": [
    {
     "data": {
      "text/plain": [
       "{'learning_rate': 0.2, 'max_depth': 2, 'n_estimators': 400}"
      ]
     },
     "execution_count": 33,
     "metadata": {},
     "output_type": "execute_result"
    }
   ],
   "source": [
    "#Initialize the classifier\n",
    "clf = xgb.XGBClassifier(colsample_bytree=0.5,colsample_bylevel=0.5)\n",
    "\n",
    "# parameters to tune\n",
    "\n",
    "parameters = {\n",
    "              \"n_estimators\":[100,200,300,400],\n",
    "              \"learning_rate\":[0.01,0.05,0.1,0.2],\n",
    "              \"max_depth\":[2,4,6]\n",
    "              }\n",
    "\n",
    "# grid search using roc_auc score\n",
    "gs3 = GridSearchCV(clf, parameters, scoring=\"roc_auc\")\n",
    "\n",
    "# find the best parameter\n",
    "grid_fit = gs3.fit(x_train, y_train)\n",
    "\n",
    "# obtain the estimator\n",
    "best_clf = grid_fit.best_estimator_\n",
    "\n",
    "# find the best parameter\n",
    "gs3.best_params_"
   ]
  },
  {
   "cell_type": "code",
   "execution_count": 34,
   "metadata": {},
   "outputs": [
    {
     "name": "stdout",
     "output_type": "stream",
     "text": [
      "Unoptimized model\n",
      "------\n",
      "AUPRC on train data: 0.9005\n",
      "AUROC on train data: 0.9396\n",
      "F-score on train data: 0.9082\n",
      "\n",
      "Optimized Model\n",
      "------\n",
      "Final AUPRC on the train data: 0.8079\n",
      "Final AUROC the train data: 0.8800\n",
      "Final F-score on the train data: 0.8161\n",
      "[[520  29]\n",
      " [ 64 278]]\n",
      "Area Under ROC Curve for train data:  0.9524920376228976\n"
     ]
    },
    {
     "data": {
      "image/png": "[encoded data removed]",
      "text/plain": [
       "<Figure size 432x288 with 1 Axes>"
      ]
     },
     "metadata": {
      "needs_background": "light"
     },
     "output_type": "display_data"
    }
   ],
   "source": [
    "#fitting the classifier with best parameters obtained\n",
    "r3=xgb.XGBClassifier(n_estimators=400  ,learning_rate= 0.2 ,max_depth= 2,colsample_bytree=0.5,colsample_bylevel=0.5).fit(x_train,y_train)\n",
    "\n",
    "# obtain the estimator\n",
    "best_clf = grid_fit.best_estimator_\n",
    "\n",
    "#predictions using the unoptimized model and optimized model\n",
    "predictions = (clf.fit(x_train, y_train)).predict(x_train)\n",
    "best_predictions = best_clf.predict(x_train)\n",
    "# score before optimization \n",
    "print (\"Unoptimized model\\n------\")\n",
    "print (\"AUPRC on train data: {:.4f}\".format(average_precision_score(y_train, predictions)))\n",
    "print (\"AUROC on train data: {:.4f}\".format(roc_auc_score(y_train, predictions)))\n",
    "print (\"F-score on train data: {:.4f}\".format(fbeta_score(y_train, predictions, beta = 5)))\n",
    "\n",
    "#score after optimization\n",
    "print (\"\\nOptimized Model\\n------\")\n",
    "print (\"Final AUPRC on the train data: {:.4f}\".format(average_precision_score(y_train, best_predictions)))\n",
    "print (\"Final AUROC the train data: {:.4f}\".format(roc_auc_score(y_train, best_predictions)))\n",
    "print (\"Final F-score on the train data: {:.4f}\".format(fbeta_score(y_train, best_predictions, beta = 5)))\n",
    "print(confusion_matrix(y_train,best_predictions))\n",
    "\n",
    "probas_ = best_clf.predict_proba(x_train)\n",
    "fpr, tpr, thresholds = roc_curve(y_train, probas_[:, 1])\n",
    "area = auc(fpr, tpr)\n",
    "print(\"Area Under ROC Curve for train data: \",area)\n",
    "#plot roc curve\n",
    "plt.plot(fpr, tpr, label='ROC curve for Optimized Model')\n",
    "plt.xlabel('FPR')\n",
    "plt.ylabel('TPR')\n",
    "plt.ylim([0.0, 1.05])\n",
    "plt.xlim([0.0, 1.0])\n",
    "plt.legend(loc=\"lower left\")\n",
    "plt.show()"
   ]
  },
  {
   "cell_type": "markdown",
   "metadata": {},
   "source": [
    "## ENSEMBLE: Voting Classifier( Soft Voting)"
   ]
  },
  {
   "cell_type": "code",
   "execution_count": 41,
   "metadata": {},
   "outputs": [],
   "source": [
    "predictions=clf.predict(test)\n",
    "submission=pd.DataFrame({'PassengerId':passenger_id,'Survived':predictions}).set_index('PassengerId')\n",
    "submission.to_csv('Titanic_Submission_HV.csv')"
   ]
  },
  {
   "cell_type": "code",
   "execution_count": 35,
   "metadata": {},
   "outputs": [
    {
     "data": {
      "text/plain": [
       "array([[522,  27],\n",
       "       [ 63, 279]], dtype=int64)"
      ]
     },
     "execution_count": 35,
     "metadata": {},
     "output_type": "execute_result"
    }
   ],
   "source": [
    "clf=VotingClassifier(estimators=[(\"tree\",r1),(\"rf\",r2),('xgb',r3)],voting=\"soft\").fit(x_train,y_train)\n",
    "confusion_matrix(y_train,clf.predict(x_train))"
   ]
  },
  {
   "cell_type": "code",
   "execution_count": 36,
   "metadata": {},
   "outputs": [],
   "source": [
    "def roc_evaluation(r,x_train,y_train):\n",
    "    plt.figure()\n",
    "    fpr,tpr,_=roc_curve(y_train,r.predict_proba(x_train)[:,1])\n",
    "    plt.plot(fpr,tpr,label=\"train_roc_curve\")\n",
    "    plt.legend()\n",
    "    plt.xlabel(\"FPR\")\n",
    "    plt.ylabel(\"TPR\")\n",
    "    plt.title(\"ROC_CURVE\")\n",
    "    print(\"roc_auc score of train set is {}\".format(roc_auc_score(y_train,r.predict_proba(x_train)[:,1])))"
   ]
  },
  {
   "cell_type": "code",
   "execution_count": 37,
   "metadata": {},
   "outputs": [
    {
     "name": "stdout",
     "output_type": "stream",
     "text": [
      "roc_auc score of train set is 0.959264052663535\n"
     ]
    },
    {
     "data": {
      "image/png": "[encoded data removed]",
      "text/plain": [
       "<Figure size 432x288 with 1 Axes>"
      ]
     },
     "metadata": {
      "needs_background": "light"
     },
     "output_type": "display_data"
    }
   ],
   "source": [
    "roc_evaluation(clf,x_train,y_train)"
   ]
  },
  {
   "cell_type": "code",
   "execution_count": 38,
   "metadata": {},
   "outputs": [],
   "source": [
    "predictions=clf.predict(test)\n",
    "submission=pd.DataFrame({'PassengerId':passenger_id,'Survived':predictions}).set_index('PassengerId')\n",
    "submission.to_csv('Titanic_Submission.csv')"
   ]
  }
 ],
 "metadata": {
  "kernelspec": {
   "display_name": "Python 3",
   "language": "python",
   "name": "python3"
  },
  "language_info": {
   "codemirror_mode": {
    "name": "ipython",
    "version": 3
   },
   "file_extension": ".py",
   "mimetype": "text/x-python",
   "name": "python",
   "nbconvert_exporter": "python",
   "pygments_lexer": "ipython3",
   "version": "3.7.3"
  }
 },
 "nbformat": 4,
 "nbformat_minor": 2
}
